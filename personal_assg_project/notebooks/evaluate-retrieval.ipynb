{
 "cells": [
  {
   "cell_type": "code",
   "execution_count": 10,
   "id": "8456b5b6-185b-440b-ab98-1822aac2fe4f",
   "metadata": {},
   "outputs": [],
   "source": [
    "import json\n",
    "from tqdm import tqdm\n",
    "with open('/home/nkama/LLM_and_RAG_Course/LLM_and_RAG-/personal_assg_project/interview_qa.json', 'rt') as f_in:\n",
    "    documents = json.load(f_in)"
   ]
  },
  {
   "cell_type": "code",
   "execution_count": 17,
   "id": "5833e987-21f5-4788-8609-d32410bc7b10",
   "metadata": {},
   "outputs": [
    {
     "name": "stderr",
     "output_type": "stream",
     "text": [
      "/home/nkama/.pyenv/versions/3.10.6/envs/llmMath/lib/python3.10/site-packages/tqdm/auto.py:21: TqdmWarning: IProgress not found. Please update jupyter and ipywidgets. See https://ipywidgets.readthedocs.io/en/stable/user_install.html\n",
      "  from .autonotebook import tqdm as notebook_tqdm\n",
      "/home/nkama/.pyenv/versions/3.10.6/envs/llmMath/lib/python3.10/site-packages/transformers/tokenization_utils_base.py:1601: FutureWarning: `clean_up_tokenization_spaces` was not set. It will be set to `True` by default. This behavior will be depracted in transformers v4.45, and will be then set to `False` by default. For more details check this issue: https://github.com/huggingface/transformers/issues/31884\n",
      "  warnings.warn(\n"
     ]
    }
   ],
   "source": [
    "from sentence_transformers import SentenceTransformer\n",
    "model_name = 'multi-qa-MiniLM-L6-cos-v1'\n",
    "\n",
    "model = SentenceTransformer(model_name)"
   ]
  },
  {
   "cell_type": "code",
   "execution_count": 22,
   "id": "341b331f-e3aa-41b7-91a2-b42cd3a57c2e",
   "metadata": {},
   "outputs": [],
   "source": [
    "encoded_question = model.encode('I just discovered the course. Can I still join?')"
   ]
  },
  {
   "cell_type": "code",
   "execution_count": 23,
   "id": "5783a592-5d76-44ee-89a7-05615ef966bf",
   "metadata": {},
   "outputs": [
    {
     "data": {
      "text/plain": [
       "384"
      ]
     },
     "execution_count": 23,
     "metadata": {},
     "output_type": "execute_result"
    }
   ],
   "source": [
    "len(v)"
   ]
  },
  {
   "cell_type": "code",
   "execution_count": 24,
   "id": "620ed5a1-cc06-40a3-8627-891aed525cba",
   "metadata": {},
   "outputs": [],
   "source": [
    "from elasticsearch import Elasticsearch\n",
    "es_client = Elasticsearch('http://localhost:9200')"
   ]
  },
  {
   "cell_type": "code",
   "execution_count": 25,
   "id": "8755cb82",
   "metadata": {},
   "outputs": [],
   "source": [
    "from personal_assg_project.modular_rag import encode_and_index_documents, create_vector_index, vector_elastic_search"
   ]
  },
  {
   "cell_type": "code",
   "execution_count": 1,
   "id": "b14ed485",
   "metadata": {},
   "outputs": [
    {
     "ename": "NameError",
     "evalue": "name 'create_vector_index' is not defined",
     "output_type": "error",
     "traceback": [
      "\u001b[0;31m---------------------------------------------------------------------------\u001b[0m",
      "\u001b[0;31mNameError\u001b[0m                                 Traceback (most recent call last)",
      "Cell \u001b[0;32mIn[1], line 1\u001b[0m\n\u001b[0;32m----> 1\u001b[0m \u001b[43mcreate_vector_index\u001b[49m(es_client)\n",
      "\u001b[0;31mNameError\u001b[0m: name 'create_vector_index' is not defined"
     ]
    }
   ],
   "source": [
    "create_vector_index(es_client)\n"
   ]
  },
  {
   "cell_type": "code",
   "execution_count": 27,
   "id": "72fc9219",
   "metadata": {},
   "outputs": [
    {
     "name": "stderr",
     "output_type": "stream",
     "text": [
      "Encoding documents: 100%|██████████| 948/948 [01:12<00:00, 13.03it/s]\n",
      "Indexing documents: 100%|██████████| 948/948 [00:07<00:00, 124.59it/s]\n"
     ]
    }
   ],
   "source": [
    "encode_and_index_documents(es_client, model, documents)\n"
   ]
  },
  {
   "cell_type": "code",
   "execution_count": 28,
   "id": "c3d2ab8b",
   "metadata": {},
   "outputs": [
    {
     "data": {
      "text/plain": [
       "[{'question': 'Course - Can I still join the course after the start date?',\n",
       "  'course': 'data-engineering-zoomcamp',\n",
       "  'section': 'General course-related questions',\n",
       "  'text': \"Yes, even if you don't register, you're still eligible to submit the homeworks.\\nBe aware, however, that there will be deadlines for turning in the final projects. So don't leave everything for the last minute.\",\n",
       "  'id': '7842b56a'},\n",
       " {'question': 'Course - Can I follow the course after it finishes?',\n",
       "  'course': 'data-engineering-zoomcamp',\n",
       "  'section': 'General course-related questions',\n",
       "  'text': 'Yes, we will keep all the materials after the course finishes, so you can follow the course at your own pace after it finishes.\\nYou can also continue looking at the homeworks and continue preparing for the next cohort. I guess you can also start working on your final capstone project.',\n",
       "  'id': 'a482086d'},\n",
       " {'question': 'How can we contribute to the course?',\n",
       "  'course': 'data-engineering-zoomcamp',\n",
       "  'section': 'General course-related questions',\n",
       "  'text': 'Star the repo! Share it with friends if you find it useful ❣️\\nCreate a PR if you see you can improve the text or the structure of the repository.',\n",
       "  'id': '2f19301f'},\n",
       " {'question': 'Certificate - Can I follow the course in a self-paced mode and get a certificate?',\n",
       "  'course': 'data-engineering-zoomcamp',\n",
       "  'section': 'General course-related questions',\n",
       "  'text': \"No, you can only get a certificate if you finish the course with a “live” cohort. We don't award certificates for the self-paced mode. The reason is you need to peer-review capstone(s) after submitting a project. You can only peer-review projects at the time the course is running.\",\n",
       "  'id': 'cb257ee5'},\n",
       " {'question': 'Course - When will the course start?',\n",
       "  'course': 'data-engineering-zoomcamp',\n",
       "  'section': 'General course-related questions',\n",
       "  'text': \"The purpose of this document is to capture frequently asked technical questions\\nThe exact day and hour of the course will be 15th Jan 2024 at 17h00. The course will start with the first  “Office Hours'' live.1\\nSubscribe to course public Google Calendar (it works from Desktop only).\\nRegister before the course starts using this link.\\nJoin the course Telegram channel with announcements.\\nDon’t forget to register in DataTalks.Club's Slack and join the channel.\",\n",
       "  'id': 'c02e79ef'}]"
      ]
     },
     "execution_count": 28,
     "metadata": {},
     "output_type": "execute_result"
    }
   ],
   "source": [
    "vector_elastic_search(es_client, \"question_text_vector\", encoded_question, \"data-engineering-zoomcamp\")"
   ]
  },
  {
   "cell_type": "code",
   "execution_count": 3,
   "id": "82a78984-1440-4195-9513-106109013fce",
   "metadata": {},
   "outputs": [],
   "source": [
    "query = 'I just discovered the course. Can I still join it?'"
   ]
  },
  {
   "cell_type": "code",
   "execution_count": 8,
   "id": "8a5ac3e8-8d75-48f6-8d3c-0b25d227d1f2",
   "metadata": {},
   "outputs": [],
   "source": [
    "v_q = model.encode(query)"
   ]
  },
  {
   "cell_type": "code",
   "execution_count": 47,
   "id": "cc09b90a-a88b-4678-a613-eb68e16136d5",
   "metadata": {},
   "outputs": [],
   "source": [
    "# Function to retrieve responses for test data using vector search\n",
    "def question_text_vector(q):\n",
    "    question = q['question']\n",
    "    course = q['course']\n",
    "\n",
    "    v_q = model.encode(question)\n",
    "\n",
    "    return vector_elastic_search(es_client, \"question_text_vector\", v_q, course)"
   ]
  },
  {
   "cell_type": "code",
   "execution_count": 3,
   "id": "163d5e97-e1b7-45e1-ba1e-61fca4fc37a9",
   "metadata": {},
   "outputs": [],
   "source": [
    "import pandas as pd"
   ]
  },
  {
   "cell_type": "code",
   "execution_count": 32,
   "id": "e3da963b-cd17-471b-9cff-7f8c4276b915",
   "metadata": {},
   "outputs": [
    {
     "data": {
      "text/html": [
       "<div>\n",
       "<style scoped>\n",
       "    .dataframe tbody tr th:only-of-type {\n",
       "        vertical-align: middle;\n",
       "    }\n",
       "\n",
       "    .dataframe tbody tr th {\n",
       "        vertical-align: top;\n",
       "    }\n",
       "\n",
       "    .dataframe thead th {\n",
       "        text-align: right;\n",
       "    }\n",
       "</style>\n",
       "<table border=\"1\" class=\"dataframe\">\n",
       "  <thead>\n",
       "    <tr style=\"text-align: right;\">\n",
       "      <th></th>\n",
       "      <th>question</th>\n",
       "      <th>course</th>\n",
       "      <th>document</th>\n",
       "    </tr>\n",
       "  </thead>\n",
       "  <tbody>\n",
       "    <tr>\n",
       "      <th>0</th>\n",
       "      <td>When does the course begin?</td>\n",
       "      <td>data-engineering-zoomcamp</td>\n",
       "      <td>c02e79ef</td>\n",
       "    </tr>\n",
       "    <tr>\n",
       "      <th>1</th>\n",
       "      <td>How can I get the course schedule?</td>\n",
       "      <td>data-engineering-zoomcamp</td>\n",
       "      <td>c02e79ef</td>\n",
       "    </tr>\n",
       "    <tr>\n",
       "      <th>2</th>\n",
       "      <td>What is the link for course registration?</td>\n",
       "      <td>data-engineering-zoomcamp</td>\n",
       "      <td>c02e79ef</td>\n",
       "    </tr>\n",
       "    <tr>\n",
       "      <th>3</th>\n",
       "      <td>How can I receive course announcements?</td>\n",
       "      <td>data-engineering-zoomcamp</td>\n",
       "      <td>c02e79ef</td>\n",
       "    </tr>\n",
       "    <tr>\n",
       "      <th>4</th>\n",
       "      <td>Where do I join the Slack channel?</td>\n",
       "      <td>data-engineering-zoomcamp</td>\n",
       "      <td>c02e79ef</td>\n",
       "    </tr>\n",
       "  </tbody>\n",
       "</table>\n",
       "</div>"
      ],
      "text/plain": [
       "                                    question                     course  \\\n",
       "0                When does the course begin?  data-engineering-zoomcamp   \n",
       "1         How can I get the course schedule?  data-engineering-zoomcamp   \n",
       "2  What is the link for course registration?  data-engineering-zoomcamp   \n",
       "3    How can I receive course announcements?  data-engineering-zoomcamp   \n",
       "4         Where do I join the Slack channel?  data-engineering-zoomcamp   \n",
       "\n",
       "   document  \n",
       "0  c02e79ef  \n",
       "1  c02e79ef  \n",
       "2  c02e79ef  \n",
       "3  c02e79ef  \n",
       "4  c02e79ef  "
      ]
     },
     "execution_count": 32,
     "metadata": {},
     "output_type": "execute_result"
    }
   ],
   "source": [
    "# Load test data\n",
    "df_test_data = pd.read_csv('/home/nkama/LLM_and_RAG_Course/LLM_and_RAG-/data/ground-truth-data.csv')\n",
    "df_test_data.head()"
   ]
  },
  {
   "cell_type": "code",
   "execution_count": 33,
   "id": "d53d3beb-d699-46c8-bc85-953afc4ef48d",
   "metadata": {},
   "outputs": [],
   "source": [
    "#turn dataframe to dict.\n",
    "test_data = df_test_data.to_dict(orient='records')"
   ]
  },
  {
   "cell_type": "code",
   "execution_count": 14,
   "id": "0deced29-bae5-4b6c-b2b8-53ce46b4f8ab",
   "metadata": {},
   "outputs": [
    {
     "data": {
      "text/plain": [
       "{'question': 'When does the course begin?',\n",
       " 'course': 'data-engineering-zoomcamp',\n",
       " 'document': 'c02e79ef'}"
      ]
     },
     "execution_count": 14,
     "metadata": {},
     "output_type": "execute_result"
    }
   ],
   "source": [
    "test_data[0]"
   ]
  },
  {
   "cell_type": "markdown",
   "id": "effe1919",
   "metadata": {},
   "source": [
    "**We use two metrices to evaluate the retrieval performance**\n",
    "\n",
    "- Hit Rate\n",
    "- MRR"
   ]
  },
  {
   "cell_type": "code",
   "execution_count": 5,
   "id": "8959c9ff-5bbe-4729-8fa3-cdc51ed10f5f",
   "metadata": {},
   "outputs": [],
   "source": [
    "def hit_rate(relevance_total):\n",
    "    cnt = 0\n",
    "\n",
    "    for line in relevance_total:\n",
    "        if True in line:\n",
    "            cnt = cnt + 1\n",
    "\n",
    "    return cnt / len(relevance_total)"
   ]
  },
  {
   "cell_type": "code",
   "execution_count": 7,
   "id": "842255b5-18f2-4102-9689-a5835e0a621c",
   "metadata": {},
   "outputs": [],
   "source": [
    "def mrr(relevance_total):\n",
    "    total_score = 0.0\n",
    "\n",
    "    for line in relevance_total:\n",
    "        for rank in range(len(line)):\n",
    "            if line[rank] == True:\n",
    "                total_score = total_score + 1 / (rank + 1)\n",
    "\n",
    "    return total_score / len(relevance_total)"
   ]
  },
  {
   "cell_type": "code",
   "execution_count": 8,
   "id": "f11baaff-43d9-4b8c-a896-561b86e85743",
   "metadata": {},
   "outputs": [],
   "source": [
    "#Evaluate retrieval\n",
    "def evaluate(ground_truth, search_function):\n",
    "    relevance_total = []\n",
    "\n",
    "    for q in tqdm(ground_truth):\n",
    "        doc_id = q['document']\n",
    "        results = search_function(q)\n",
    "        relevance = [d['id'] == doc_id for d in results]\n",
    "        relevance_total.append(relevance)\n",
    "\n",
    "    return {\n",
    "        'hit_rate': hit_rate(relevance_total),\n",
    "        'mrr': mrr(relevance_total),\n",
    "    }"
   ]
  },
  {
   "cell_type": "code",
   "execution_count": 48,
   "id": "f1d3530e-1406-49dd-bba9-914f6a39d7f2",
   "metadata": {},
   "outputs": [
    {
     "name": "stderr",
     "output_type": "stream",
     "text": [
      "100%|██████████| 4627/4627 [01:34<00:00, 49.05it/s]\n"
     ]
    },
    {
     "data": {
      "text/plain": [
       "{'hit_rate': 0.9172249837907932, 'mrr': 0.824306606152295}"
      ]
     },
     "execution_count": 48,
     "metadata": {},
     "output_type": "execute_result"
    }
   ],
   "source": [
    "evaluate(test_data, test_data_vector_knn)"
   ]
  },
  {
   "cell_type": "markdown",
   "id": "3aa5eb82-27df-4577-a2e2-23971f2fa964",
   "metadata": {},
   "source": [
    "ES text only: 0.7395720769397017, 0.6032418413658963"
   ]
  },
  {
   "cell_type": "code",
   "execution_count": 41,
   "id": "e87f0987-02e9-4e2c-a091-14a75c9ce58d",
   "metadata": {},
   "outputs": [],
   "source": [
    "def text_vector_knn(q):\n",
    "    question = q['question']\n",
    "    course = q['course']\n",
    "\n",
    "    v_q = model.encode(question)\n",
    "\n",
    "    return vector_elastic_search(es_client, \"text_vector\", v_q, course)"
   ]
  },
  {
   "cell_type": "code",
   "execution_count": 42,
   "id": "d676bd5e-4abc-4799-bb37-c1a86b3b9872",
   "metadata": {},
   "outputs": [
    {
     "name": "stderr",
     "output_type": "stream",
     "text": [
      "100%|██████████| 4627/4627 [01:36<00:00, 48.17it/s]\n"
     ]
    },
    {
     "data": {
      "text/plain": [
       "{'hit_rate': 0.9172249837907932, 'mrr': 0.824306606152295}"
      ]
     },
     "execution_count": 42,
     "metadata": {},
     "output_type": "execute_result"
    }
   ],
   "source": [
    "evaluate(test_data, test_data_vector_knn)"
   ]
  },
  {
   "cell_type": "code",
   "execution_count": 46,
   "id": "13a47c3e-036a-4212-912c-a61de0daf6cd",
   "metadata": {},
   "outputs": [
    {
     "name": "stderr",
     "output_type": "stream",
     "text": [
      "100%|██████████| 4627/4627 [01:33<00:00, 49.24it/s]\n"
     ]
    },
    {
     "data": {
      "text/plain": [
       "{'hit_rate': 0.9172249837907932, 'mrr': 0.824306606152295}"
      ]
     },
     "execution_count": 46,
     "metadata": {},
     "output_type": "execute_result"
    }
   ],
   "source": [
    "def question_vector(q):\n",
    "    question = q['question']\n",
    "    course = q['course']\n",
    "\n",
    "    v_q = model.encode(question)\n",
    "\n",
    "    return vector_elastic_search(es_client, \"question_vector\", v_q, course)\n",
    "\n",
    "evaluate(test_data, test_data_vector_knn)"
   ]
  }
 ],
 "metadata": {
  "kernelspec": {
   "display_name": "Python 3 (ipykernel)",
   "language": "python",
   "name": "python3"
  },
  "language_info": {
   "codemirror_mode": {
    "name": "ipython",
    "version": 3
   },
   "file_extension": ".py",
   "mimetype": "text/x-python",
   "name": "python",
   "nbconvert_exporter": "python",
   "pygments_lexer": "ipython3",
   "version": "3.10.6"
  }
 },
 "nbformat": 4,
 "nbformat_minor": 5
}
